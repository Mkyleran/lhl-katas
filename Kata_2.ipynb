{
 "cells": [
  {
   "cell_type": "markdown",
   "id": "4ec7ab38-d4cb-45d8-b980-fad88a1e708d",
   "metadata": {},
   "source": [
    "# Kata 2 - Conditional sums "
   ]
  },
  {
   "cell_type": "markdown",
   "id": "d86b8c67-0630-4e41-a26a-55e54b51b577",
   "metadata": {},
   "source": [
    "Create a function named ```conditionalSum``` that will be given a list of numbers and a condition, in this case ```odd``` or ```even```. Given this condition, add up only the values which match that condition. If no values match the condition, return ```0```."
   ]
  },
  {
   "cell_type": "markdown",
   "id": "1aaf504a-bd03-4967-96d8-5ca97d14ba0b",
   "metadata": {},
   "source": [
    "## Expected Output"
   ]
  },
  {
   "cell_type": "markdown",
   "id": "52789d1d-6834-4166-a529-d4c6bad90f83",
   "metadata": {},
   "source": [
    "```\n",
    "6\n",
    "9\n",
    "144\n",
    "0\n",
    "```"
   ]
  },
  {
   "cell_type": "code",
   "execution_count": 3,
   "id": "6cc1cd15-bd43-4deb-97ca-f0761afd1d62",
   "metadata": {},
   "outputs": [
    {
     "name": "stdout",
     "output_type": "stream",
     "text": [
      "6\n",
      "9\n",
      "144\n",
      "0\n"
     ]
    }
   ],
   "source": [
    "def conditionalSum(values, condition):\n",
    "    '''Function returns the sum of all even or odd numbers in a given\n",
    "    list based on the given condition string. If there are no values\n",
    "    in the list, return 0. If a condition other than odd or even is \n",
    "    given, return string saying the condition cannot be handled.'''\n",
    "    \n",
    "    if values:\n",
    "        con_sum = 0\n",
    "        if condition == 'even':\n",
    "            con_sum = sum([value for value in values if value % 2 == 0])\n",
    "        elif condition == 'odd':\n",
    "            con_sum += sum([value for value in values if value % 2 != 0])\n",
    "        else:\n",
    "            return 'I cannot handle that condition'\n",
    "        return con_sum\n",
    "    else: return 0\n",
    "\n",
    "print(conditionalSum([1, 2, 3, 4, 5], \"even\"))\n",
    "print(conditionalSum([1, 2, 3, 4, 5], \"odd\"))\n",
    "print(conditionalSum([13, 88, 12, 44, 99], \"even\"))\n",
    "print(conditionalSum([], \"odd\"))"
   ]
  },
  {
   "cell_type": "code",
   "execution_count": null,
   "id": "838bf8cd-8aa3-48dc-8082-63f9151a15fb",
   "metadata": {},
   "outputs": [],
   "source": []
  }
 ],
 "metadata": {
  "kernelspec": {
   "display_name": "Python 3 (ipykernel)",
   "language": "python",
   "name": "python3"
  },
  "language_info": {
   "codemirror_mode": {
    "name": "ipython",
    "version": 3
   },
   "file_extension": ".py",
   "mimetype": "text/x-python",
   "name": "python",
   "nbconvert_exporter": "python",
   "pygments_lexer": "ipython3",
   "version": "3.8.12"
  }
 },
 "nbformat": 4,
 "nbformat_minor": 5
}

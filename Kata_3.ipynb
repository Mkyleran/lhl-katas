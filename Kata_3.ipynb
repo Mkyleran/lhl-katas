{
 "cells": [
  {
   "cell_type": "markdown",
   "id": "6015cdaa-be14-480e-b0ed-616f80062759",
   "metadata": {},
   "source": [
    "# Kata 3 - Vowels"
   ]
  },
  {
   "cell_type": "markdown",
   "id": "73743ed4-c86e-478f-878f-7b99afd8564f",
   "metadata": {},
   "source": [
    "Create a function named numberOfVowels that will receive a string and return the number of vowels in that string."
   ]
  },
  {
   "cell_type": "code",
   "execution_count": 1,
   "id": "8234f677-8542-4aac-b9a0-5a36e21e7879",
   "metadata": {},
   "outputs": [
    {
     "name": "stdout",
     "output_type": "stream",
     "text": [
      "3\n",
      "5\n",
      "5\n"
     ]
    }
   ],
   "source": [
    "def numberOfVowels(data):\n",
    "    '''funtion takes in a string and returns the number of vowels'''\n",
    "    \n",
    "    vowels = ('a', 'e', 'i', 'o', 'u')\n",
    "\n",
    "    vwl_count = 0\n",
    "\n",
    "    for letter in data:\n",
    "        if letter in vowels:\n",
    "            vwl_count += 1\n",
    "\n",
    "    return vwl_count\n",
    "\n",
    "\n",
    "print(numberOfVowels(\"orange\"))\n",
    "print(numberOfVowels(\"lighthouse labs\"))\n",
    "print(numberOfVowels(\"aeiou\"))"
   ]
  },
  {
   "cell_type": "markdown",
   "id": "53c8afb1-88d3-4101-8bc0-9758dccf646c",
   "metadata": {},
   "source": [
    "## Expected Output"
   ]
  },
  {
   "cell_type": "markdown",
   "id": "bf682a78-f9f0-4c5a-9ff2-5b9968d54b68",
   "metadata": {},
   "source": [
    "```\n",
    "3\n",
    "5\n",
    "5\n",
    "```"
   ]
  },
  {
   "cell_type": "code",
   "execution_count": null,
   "id": "919454fc-f5fd-48db-acfb-9fd5a676d453",
   "metadata": {},
   "outputs": [],
   "source": []
  }
 ],
 "metadata": {
  "kernelspec": {
   "display_name": "Python 3 (ipykernel)",
   "language": "python",
   "name": "python3"
  },
  "language_info": {
   "codemirror_mode": {
    "name": "ipython",
    "version": 3
   },
   "file_extension": ".py",
   "mimetype": "text/x-python",
   "name": "python",
   "nbconvert_exporter": "python",
   "pygments_lexer": "ipython3",
   "version": "3.8.12"
  }
 },
 "nbformat": 4,
 "nbformat_minor": 5
}

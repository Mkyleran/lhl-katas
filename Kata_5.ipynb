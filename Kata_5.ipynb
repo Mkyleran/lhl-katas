{
 "cells": [
  {
   "cell_type": "markdown",
   "id": "9b3dad5d-2cb1-4715-a67a-498aa93d4ac0",
   "metadata": {},
   "source": [
    "# Kata 5 - Percent Encoded String"
   ]
  },
  {
   "cell_type": "markdown",
   "id": "ab4b9f3f-ccc1-42aa-8f14-30613c91f2c9",
   "metadata": {},
   "source": [
    "Create a function named ```urlEncode``` that will receive a string of words, and return that string with all of the whitespace characters converted to ```%20```. If there is whitespace on the outside of the string, like in our second example above, you should only replace the whitespace within the string."
   ]
  },
  {
   "cell_type": "code",
   "execution_count": 4,
   "id": "d779f4c9-1284-4e99-bc69-aad30b278556",
   "metadata": {},
   "outputs": [
    {
     "name": "stdout",
     "output_type": "stream",
     "text": [
      "Lighthouse%20Labs\n",
      "Lighthouse%20Labs\n",
      "blue%20is%20greener%20than%20purple%20for%20sure\n"
     ]
    }
   ],
   "source": [
    "def urlEncode(text):\n",
    "    '''Function takes a string, removes leading and\n",
    "    trailing whitespace, and returns the string with\n",
    "    interior space characters replaced with '%20.''\n",
    "    '''\n",
    "    \n",
    "    text = text.strip()\n",
    "    encoded_text = ''\n",
    "    for char in text:\n",
    "        if char == ' ':\n",
    "            encoded_text += '%20'\n",
    "        else: encoded_text += char\n",
    "    return encoded_text\n",
    "\n",
    "print(urlEncode(\"Lighthouse Labs\"))\n",
    "print(urlEncode(\" Lighthouse Labs  \"))\n",
    "print(urlEncode(\"blue is greener than purple for sure\"))"
   ]
  },
  {
   "cell_type": "markdown",
   "id": "6ed88d74-20e2-4b9d-b86f-b88dfc6424d0",
   "metadata": {},
   "source": [
    "## Expected Output"
   ]
  },
  {
   "cell_type": "markdown",
   "id": "3cdeca89-a07e-446a-befd-e3681607124c",
   "metadata": {},
   "source": [
    "```\n",
    "Lighthouse%20Labs\n",
    "Lighthouse%20Labs\n",
    "blue%20is%20greener%20than%20purple%20for%20sure\n",
    "```"
   ]
  },
  {
   "cell_type": "code",
   "execution_count": null,
   "id": "36043384-0409-453b-bfbf-1b281e3955b1",
   "metadata": {},
   "outputs": [],
   "source": []
  }
 ],
 "metadata": {
  "kernelspec": {
   "display_name": "Python 3 (ipykernel)",
   "language": "python",
   "name": "python3"
  },
  "language_info": {
   "codemirror_mode": {
    "name": "ipython",
    "version": 3
   },
   "file_extension": ".py",
   "mimetype": "text/x-python",
   "name": "python",
   "nbconvert_exporter": "python",
   "pygments_lexer": "ipython3",
   "version": "3.8.12"
  }
 },
 "nbformat": 4,
 "nbformat_minor": 5
}

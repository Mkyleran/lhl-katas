{
 "cells": [
  {
   "cell_type": "markdown",
   "id": "4700ad1b-25af-44a1-89e4-cd209c6d623d",
   "metadata": {},
   "source": [
    "# Kata 6 - SmartParking"
   ]
  },
  {
   "cell_type": "markdown",
   "id": "9f1eef41-e395-426e-a851-e298f0de3cc4",
   "metadata": {},
   "source": [
    "We need to write a function called ```whereCanIPark()``` that returns the coordinates of an available parking spot for the vehicle, or returns false if there is no available spot. Our function receives a list of lists representing parking spots, and a string with type of the vehicle that is looking for a parking spot.\n",
    "\n",
    "There are three kinds of possible vehicles: __regular__ cars, __small__ cars, and __motorcycles__.\n",
    "* Regular cars can only park in R spots.\n",
    "* Small cars can park in R or S spots.\n",
    "* Motorcycles can park in R, S, or M spots.\n",
    "\n",
    "In the list of parking spots, spots are written in both lower-case and upper-case. An upper-case letter means that the particular spot is __AVAILABLE__, while lower-case letters mean that the spot is __UNAVAILABLE__."
   ]
  },
  {
   "cell_type": "code",
   "execution_count": 17,
   "id": "c266ce90-6afc-4f42-b864-8f55e3115e10",
   "metadata": {},
   "outputs": [
    {
     "name": "stdout",
     "output_type": "stream",
     "text": [
      "[4, 0, 'R']\n",
      "false\n",
      "[3, 5, 'M']\n"
     ]
    }
   ],
   "source": [
    "def whereCanIPark(spots, vehicle):\n",
    "    '''Function determines whether a parking space is available for\n",
    "    a given type of vehicle.\n",
    "    Inputs:\n",
    "    - 2D list of lists containing string data, representing a parking lot\n",
    "    - String representing vehicle type\n",
    "    Returns:\n",
    "    - If space available, [X, Y] coordinate of space\n",
    "    - If space unavailable, false\n",
    "    '''\n",
    "    \n",
    "    vehicle_types = {\n",
    "        'regular' : ('R',),\n",
    "        'small' : ('S', 'R'),\n",
    "        'motorcycle' : ('M', 'S', 'R')\n",
    "    }\n",
    "    \n",
    "    \n",
    "    for space_type in vehicle_types[vehicle]:\n",
    "        # Optimize parking space allocation.\n",
    "        # i.e. park motorcycles in M spots before S or R spots\n",
    "        for y, row in enumerate(spots):\n",
    "            # index and check each row\n",
    "            if space_type in row:\n",
    "                # An available space is in the row\n",
    "                x = row.index(space_type)\n",
    "                return [x, y]\n",
    "            else: continue\n",
    "    return 'false'\n",
    "\n",
    "\n",
    "print(whereCanIPark(\n",
    "  [\n",
    "    # COLUMNS ARE X\n",
    "    # 0    1    2    3    4    5\n",
    "    ['s', 's', 's', 'S', 'R', 'M'], # 0 ROWS ARE Y\n",
    "    ['s', 'M', 's', 'S', 'r', 'M'], # 1\n",
    "    ['s', 'M', 's', 'S', 'r', 'm'], # 2\n",
    "    ['S', 'r', 's', 'm', 'r', 'M'], # 3\n",
    "    ['S', 'r', 's', 'm', 'r', 'M'], # 4\n",
    "    ['S', 'r', 'S', 'M', 'M', 'S']  # 5\n",
    "  ],\n",
    "  'regular'\n",
    "))\n",
    "\n",
    "print(whereCanIPark(\n",
    "  [\n",
    "    ['M', 'M', 'M', 'M'],\n",
    "    ['M', 's', 'M', 'M'],\n",
    "    ['M', 'M', 'M', 'M'],\n",
    "    ['M', 'M', 'r', 'M']\n",
    "  ],\n",
    "  'small'\n",
    "))\n",
    "\n",
    "print(whereCanIPark(\n",
    "  [\n",
    "    ['s', 's', 's', 's', 's', 's'],\n",
    "    ['s', 'm', 's', 'S', 'r', 's'],\n",
    "    ['s', 'm', 's', 'S', 'r', 's'],\n",
    "    ['S', 'r', 's', 'm', 'r', 's'],\n",
    "    ['S', 'r', 's', 'm', 'R', 's'],\n",
    "    ['S', 'r', 'S', 'M', 'm', 'S']\n",
    "  ],\n",
    "  'motorcycle'\n",
    "))"
   ]
  },
  {
   "cell_type": "markdown",
   "id": "7c7016d7-e9ca-43f4-88c4-d100817a0b56",
   "metadata": {},
   "source": [
    "## Expected Output\n",
    "```\n",
    "[4, 0]\n",
    "false\n",
    "[3, 1]\n",
    "```"
   ]
  },
  {
   "cell_type": "code",
   "execution_count": null,
   "id": "f6822492-e0c2-4713-918d-ab6c14853a95",
   "metadata": {},
   "outputs": [],
   "source": []
  }
 ],
 "metadata": {
  "kernelspec": {
   "display_name": "Python 3 (ipykernel)",
   "language": "python",
   "name": "python3"
  },
  "language_info": {
   "codemirror_mode": {
    "name": "ipython",
    "version": 3
   },
   "file_extension": ".py",
   "mimetype": "text/x-python",
   "name": "python",
   "nbconvert_exporter": "python",
   "pygments_lexer": "ipython3",
   "version": "3.8.12"
  }
 },
 "nbformat": 4,
 "nbformat_minor": 5
}

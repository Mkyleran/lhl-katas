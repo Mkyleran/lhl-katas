{
 "cells": [
  {
   "cell_type": "markdown",
   "id": "d0a99fde-4d30-4071-bced-44868635f6b7",
   "metadata": {},
   "source": [
    "# Kata 1"
   ]
  },
  {
   "cell_type": "markdown",
   "id": "3e12b9b7-b8e5-4f61-926f-ef9c41d71d07",
   "metadata": {},
   "source": [
    "In this exercise, we will be given a list of 2 or more numbers. We will then have to find the two largest numbers in that list and sum them together."
   ]
  },
  {
   "cell_type": "markdown",
   "id": "e11ee0df-8c37-44f2-b791-2d97b9db006b",
   "metadata": {},
   "source": [
    "## Expected Output"
   ]
  },
  {
   "cell_type": "markdown",
   "id": "2132c846-e95c-4f92-b271-f5ab9271342a",
   "metadata": {},
   "source": [
    "```\n",
    "11\n",
    "5\n",
    "126\n",
    "```"
   ]
  },
  {
   "cell_type": "code",
   "execution_count": 17,
   "id": "48e7968b-3d0f-4bf4-bd34-2bfe89030444",
   "metadata": {},
   "outputs": [],
   "source": [
    "number_lists = [\n",
    "    [1, 10],\n",
    "    [1, 2, 3],\n",
    "    [10, 4, 34, 6, 92, 2]\n",
    "]"
   ]
  },
  {
   "cell_type": "code",
   "execution_count": 30,
   "id": "e8958556-eccd-4a98-b82a-88fe88147dca",
   "metadata": {},
   "outputs": [],
   "source": [
    "def sumLargestNumbers(num_list):\n",
    "    num_list.sort(reverse=True)\n",
    "    return sum(num_list[:2])"
   ]
  },
  {
   "cell_type": "code",
   "execution_count": 31,
   "id": "4e4d4c13-e68b-4416-851a-30eb2bab1609",
   "metadata": {},
   "outputs": [
    {
     "name": "stdout",
     "output_type": "stream",
     "text": [
      "11\n",
      "5\n",
      "126\n"
     ]
    }
   ],
   "source": [
    "for lst in number_lists:\n",
    "    print(sumLargestNumbers(lst))"
   ]
  }
 ],
 "metadata": {
  "kernelspec": {
   "display_name": "Python 3 (ipykernel)",
   "language": "python",
   "name": "python3"
  },
  "language_info": {
   "codemirror_mode": {
    "name": "ipython",
    "version": 3
   },
   "file_extension": ".py",
   "mimetype": "text/x-python",
   "name": "python",
   "nbconvert_exporter": "python",
   "pygments_lexer": "ipython3",
   "version": "3.8.12"
  }
 },
 "nbformat": 4,
 "nbformat_minor": 5
}

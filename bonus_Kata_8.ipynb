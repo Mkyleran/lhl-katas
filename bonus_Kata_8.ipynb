{
 "cells": [
  {
   "cell_type": "markdown",
   "id": "91d2461b-fd13-4bf6-89f8-2534e695b383",
   "metadata": {},
   "source": [
    "# Bonus Kata 8 - Multiplication Table\n",
    "\n",
    "Create a function named ```multiplicationTable``` that receives a number ```maxValue``` as input and creates a square multiplication table where ```maxValue``` is the largest value in the table."
   ]
  },
  {
   "cell_type": "code",
   "execution_count": 35,
   "id": "a0ac0710-c638-41c3-9fc9-28572edc6155",
   "metadata": {},
   "outputs": [
    {
     "name": "stdout",
     "output_type": "stream",
     "text": [
      "1\n",
      "1 2 3 4 5\n",
      "2 4 6 8 10\n",
      "3 6 9 12 15\n",
      "4 8 12 16 20\n",
      "5 10 15 20 25\n",
      "1 2 3 4 5 6 7 8 9 10\n",
      "2 4 6 8 10 12 14 16 18 20\n",
      "3 6 9 12 15 18 21 24 27 30\n",
      "4 8 12 16 20 24 28 32 36 40\n",
      "5 10 15 20 25 30 35 40 45 50\n",
      "6 12 18 24 30 36 42 48 54 60\n",
      "7 14 21 28 35 42 49 56 63 70\n",
      "8 16 24 32 40 48 56 64 72 80\n",
      "9 18 27 36 45 54 63 72 81 90\n",
      "10 20 30 40 50 60 70 80 90 100\n"
     ]
    }
   ],
   "source": [
    "def multiplicationTable(maxValue):\n",
    "    '''\n",
    "    Function takes in a value and returns a multiplication table as a string from 1 to the given value.\n",
    "    '''\n",
    "    \n",
    "    # Create multiplication table as 2d list\n",
    "    multi_Table = [[i*j for j in range(1, maxValue + 1)] for i in range(1, maxValue + 1)]\n",
    "    \n",
    "    # Turn the 2d list into a string to remove commas and brackets\n",
    "    multi_Table = '\\n'.join(' '.join(str(j) for j in row) for row in multi_Table)\n",
    "    \n",
    "    return multi_Table\n",
    "\n",
    "print(multiplicationTable(1))\n",
    "print(multiplicationTable(5))\n",
    "print(multiplicationTable(10))"
   ]
  },
  {
   "cell_type": "markdown",
   "id": "a1b2c04e-1479-4cfc-b874-63c9251a9bee",
   "metadata": {},
   "source": [
    "## Expected Output\n",
    "```\n",
    "1\n",
    "\n",
    "1 2 3 4 5\n",
    "2 4 6 8 10\n",
    "3 6 9 12 15\n",
    "4 8 12 16 20\n",
    "5 10 15 20 25 \n",
    "\n",
    "1 2 3 4 5 6 7 8 9 10\n",
    "2 4 6 8 10 12 14 16 18 20\n",
    "3 6 9 12 15 18 21 24 27 30\n",
    "4 8 12 16 20 24 28 32 36 40\n",
    "5 10 15 20 25 30 35 40 45 50\n",
    "6 12 18 24 30 36 42 48 54 60\n",
    "7 14 21 28 35 42 49 56 63 70\n",
    "8 16 24 32 40 48 56 64 72 80\n",
    "9 18 27 36 45 54 63 72 81 90\n",
    "10 20 30 40 50 60 70 80 90 100\n",
    "```"
   ]
  },
  {
   "cell_type": "code",
   "execution_count": null,
   "id": "e278c03f-12ac-4b95-8502-62adb0a5b46b",
   "metadata": {},
   "outputs": [],
   "source": []
  }
 ],
 "metadata": {
  "kernelspec": {
   "display_name": "Python 3 (ipykernel)",
   "language": "python",
   "name": "python3"
  },
  "language_info": {
   "codemirror_mode": {
    "name": "ipython",
    "version": 3
   },
   "file_extension": ".py",
   "mimetype": "text/x-python",
   "name": "python",
   "nbconvert_exporter": "python",
   "pygments_lexer": "ipython3",
   "version": "3.8.12"
  }
 },
 "nbformat": 4,
 "nbformat_minor": 5
}

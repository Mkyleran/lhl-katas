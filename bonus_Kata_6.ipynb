{
 "cells": [
  {
   "cell_type": "markdown",
   "id": "2159f065-f385-4caf-9f84-b1c2c4238cdc",
   "metadata": {},
   "source": [
    "# Kata 6 - Repeating Numbers"
   ]
  },
  {
   "cell_type": "markdown",
   "id": "49309635-b74c-4faa-8fe0-1c9c2f11a089",
   "metadata": {},
   "source": [
    "Create a function named ```repeatNumbers``` that will __return a string__ with each of the given values repeated the appropriate number of times. If there are multiple sets of values each set should be separated by a comma. If there is only one set of values then you should omit the comma."
   ]
  },
  {
   "cell_type": "code",
   "execution_count": 1,
   "id": "d273b9f1-99ee-4432-b300-ff5b88fdea98",
   "metadata": {},
   "outputs": [
    {
     "name": "stdout",
     "output_type": "stream",
     "text": [
      "1111111111\n",
      "11, 222\n",
      "10101010, 343434343434, 9292\n"
     ]
    }
   ],
   "source": [
    "def repeatNumbers(data):\n",
    "    '''\n",
    "    Function takes in two values, repeating the first value the number of times as the second value.\n",
    "    \n",
    "    PARAMETER\n",
    "    - list of 2-element lists of integers\n",
    "    \n",
    "    RETURNS\n",
    "    - comma separated string of the first integer repeated \n",
    "    '''\n",
    "    \n",
    "    rep_vals = []\n",
    "    \n",
    "    for value in data:\n",
    "        rep_vals.append(str(value[0])*value[1])\n",
    "    \n",
    "    rep_val_str = ', '.join(rep_vals)\n",
    "    \n",
    "    return rep_val_str\n",
    "\n",
    "\n",
    "print(repeatNumbers([[1, 10]]))\n",
    "print(repeatNumbers([[1, 2], [2, 3]]))\n",
    "print(repeatNumbers([[10, 4], [34, 6], [92, 2]]))"
   ]
  },
  {
   "cell_type": "markdown",
   "id": "9dee1441-486b-49ef-9a1d-0fff0881358f",
   "metadata": {},
   "source": [
    "## Expected Output\n",
    "```\n",
    "1111111111\n",
    "11, 222\n",
    "10101010, 343434343434, 9292\n",
    "```"
   ]
  },
  {
   "cell_type": "code",
   "execution_count": null,
   "id": "71735256-81ee-493a-b7c2-30233e9b69d6",
   "metadata": {},
   "outputs": [],
   "source": []
  }
 ],
 "metadata": {
  "kernelspec": {
   "display_name": "Python 3 (ipykernel)",
   "language": "python",
   "name": "python3"
  },
  "language_info": {
   "codemirror_mode": {
    "name": "ipython",
    "version": 3
   },
   "file_extension": ".py",
   "mimetype": "text/x-python",
   "name": "python",
   "nbconvert_exporter": "python",
   "pygments_lexer": "ipython3",
   "version": "3.8.12"
  }
 },
 "nbformat": 4,
 "nbformat_minor": 5
}

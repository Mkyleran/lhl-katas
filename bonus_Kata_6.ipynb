{
 "cells": [
  {
   "cell_type": "markdown",
   "id": "2159f065-f385-4caf-9f84-b1c2c4238cdc",
   "metadata": {},
   "source": [
    "# Kata 6 - Repeating Numbers"
   ]
  },
  {
   "cell_type": "markdown",
   "id": "49309635-b74c-4faa-8fe0-1c9c2f11a089",
   "metadata": {},
   "source": [
    "Create a function named ```repeatNumbers``` that will __return a string__ with each of the given values repeated the appropriate number of times. If there are multiple sets of values each set should be separated by a comma. If there is only one set of values then you should omit the comma."
   ]
  },
  {
   "cell_type": "code",
   "execution_count": null,
   "id": "d273b9f1-99ee-4432-b300-ff5b88fdea98",
   "metadata": {},
   "outputs": [],
   "source": []
  }
 ],
 "metadata": {
  "kernelspec": {
   "display_name": "Python 3 (ipykernel)",
   "language": "python",
   "name": "python3"
  },
  "language_info": {
   "codemirror_mode": {
    "name": "ipython",
    "version": 3
   },
   "file_extension": ".py",
   "mimetype": "text/x-python",
   "name": "python",
   "nbconvert_exporter": "python",
   "pygments_lexer": "ipython3",
   "version": "3.8.12"
  }
 },
 "nbformat": 4,
 "nbformat_minor": 5
}

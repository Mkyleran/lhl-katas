{
 "cells": [
  {
   "cell_type": "markdown",
   "id": "6d1cebf1-4fb9-4d93-8c5b-eb921fa28b18",
   "metadata": {},
   "source": [
    "# Kata 7 - In the Air Tonight"
   ]
  },
  {
   "cell_type": "markdown",
   "id": "4b158e68-444f-47d9-80d1-1087f93d2c6d",
   "metadata": {},
   "source": [
    "For this challenge, we will implement a function called ```checkAir()```, which will check a collection of air samples. The function will take in two arguments. The first argument is a list of strings, where each string represents a small air sample that is either ```clean``` or ```dirty```. The second argument is a number representing the highest acceptable amount of dirty samples. For example, a threshold of 0.4 means that there must be less than 40% of total samples classified as dirty for our air to be considered clean. Our function must return ```Polluted``` if there are too many dirty air samples, or ```Clean``` if the proportion of dirty samples is below the threshold."
   ]
  },
  {
   "cell_type": "code",
   "execution_count": 1,
   "id": "ba600e74-169a-4b50-8079-141a6c22f7e2",
   "metadata": {},
   "outputs": [
    {
     "name": "stdout",
     "output_type": "stream",
     "text": [
      "Polluted\n",
      "Polluted\n",
      "Clean\n"
     ]
    }
   ],
   "source": [
    "def checkAir(samples, threshold):\n",
    "    '''Function reads air quality sample data and returns whether\n",
    "    a collection of samples is below a pollution threshold.\n",
    "    Inputs:\n",
    "    - List of strings representing a collection of air quality samle results\n",
    "    - Float representing the maximum percentage of dirty samples permissible in a collection\n",
    "    Returns:\n",
    "    - If there are more dirty samples than permissible, 'Polluted'\n",
    "    - else, 'Clean'\n",
    "    '''\n",
    "    dirty_sample_count = samples.count('dirty')\n",
    "    total_sample_count = len(samples)\n",
    "    if dirty_sample_count / total_sample_count < threshold:\n",
    "        return 'Clean'\n",
    "    else: return 'Polluted'\n",
    "\n",
    "print(checkAir(\n",
    "  ['clean', 'clean', 'dirty', 'clean', 'dirty', 'clean', 'clean', 'dirty', 'clean', 'dirty'],\n",
    "  0.3\n",
    "))\n",
    "\n",
    "print(checkAir(\n",
    "  ['dirty', 'dirty', 'dirty', 'dirty', 'clean'],\n",
    "  0.25\n",
    "))\n",
    "\n",
    "print(checkAir(\n",
    "  ['clean', 'dirty', 'clean', 'dirty', 'clean', 'dirty', 'clean'],\n",
    "  0.9\n",
    "))"
   ]
  },
  {
   "cell_type": "markdown",
   "id": "f7a43374-10e8-4dba-9341-bbd5b6d4bf36",
   "metadata": {},
   "source": [
    "## Expected Output\n",
    "```\n",
    "Polluted\n",
    "Polluted\n",
    "Clean\n",
    "```"
   ]
  }
 ],
 "metadata": {
  "kernelspec": {
   "display_name": "Python 3 (ipykernel)",
   "language": "python",
   "name": "python3"
  },
  "language_info": {
   "codemirror_mode": {
    "name": "ipython",
    "version": 3
   },
   "file_extension": ".py",
   "mimetype": "text/x-python",
   "name": "python",
   "nbconvert_exporter": "python",
   "pygments_lexer": "ipython3",
   "version": "3.8.12"
  }
 },
 "nbformat": 4,
 "nbformat_minor": 5
}

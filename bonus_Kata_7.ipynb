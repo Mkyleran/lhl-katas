{
 "cells": [
  {
   "cell_type": "markdown",
   "id": "c0263bcb-26a5-441f-9bbb-0737a61b456c",
   "metadata": {},
   "source": [
    "# Bonus Kata 7 Case Maker\n",
    "Create a function named ```camelCase``` that will convert a string to a camel case, and return the result."
   ]
  },
  {
   "cell_type": "code",
   "execution_count": 3,
   "id": "c8af7c1f-df86-45ed-8a28-5e78816696ae",
   "metadata": {},
   "outputs": [
    {
     "name": "stdout",
     "output_type": "stream",
     "text": [
      "thisIsAString\n",
      "loopyLighthouse\n",
      "supercalifragalisticexpialidocious\n"
     ]
    }
   ],
   "source": [
    "def camelCase(input):\n",
    "    '''\n",
    "    Function takes in a string and returns a concatenated camel-case string.\n",
    "    \n",
    "    PARAMETER\n",
    "    - string\n",
    "    \n",
    "    RETURNS\n",
    "    - string\n",
    "    '''\n",
    "    words = input.split(' ')\n",
    "    \n",
    "    camelStr = words[0].lower()\n",
    "    \n",
    "    for word in words[1:]:\n",
    "        camelStr += word.capitalize()\n",
    "        \n",
    "    return camelStr\n",
    "\n",
    "\n",
    "print(camelCase(\"this is a string\"))\n",
    "print(camelCase(\"loopy lighthouse\"))\n",
    "print(camelCase(\"supercalifragalisticexpialidocious\"))"
   ]
  },
  {
   "cell_type": "markdown",
   "id": "00960b5a-fed0-485f-afd5-e71163f8618b",
   "metadata": {},
   "source": [
    "## Expected Output\n",
    "```\n",
    "thisIsAString\n",
    "loopyLighthouse\n",
    "supercalifragalisticexpialidocious\n",
    "```"
   ]
  },
  {
   "cell_type": "code",
   "execution_count": null,
   "id": "7b4cc102-4535-441a-934f-53f2eb5833bd",
   "metadata": {},
   "outputs": [],
   "source": []
  }
 ],
 "metadata": {
  "kernelspec": {
   "display_name": "Python 3 (ipykernel)",
   "language": "python",
   "name": "python3"
  },
  "language_info": {
   "codemirror_mode": {
    "name": "ipython",
    "version": 3
   },
   "file_extension": ".py",
   "mimetype": "text/x-python",
   "name": "python",
   "nbconvert_exporter": "python",
   "pygments_lexer": "ipython3",
   "version": "3.8.12"
  }
 },
 "nbformat": 4,
 "nbformat_minor": 5
}

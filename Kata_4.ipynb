{
 "cells": [
  {
   "cell_type": "markdown",
   "id": "2a39432b-5afb-496d-9489-a45f36bfee53",
   "metadata": {},
   "source": [
    "# Kata 4 - Instructors Names"
   ]
  },
  {
   "cell_type": "markdown",
   "id": "4e4186ca-2ef7-4fd1-9c31-acab5b26a405",
   "metadata": {},
   "source": [
    "Create a function named ```instructorWithLongestName``` that will receive a list of instructor dictionaries, and return the object that has the longest name. If there are two instructors with the longest name, return the first one."
   ]
  },
  {
   "cell_type": "code",
   "execution_count": null,
   "id": "d0c4e416-3a2a-4c08-a954-5a6fe1ed7d74",
   "metadata": {},
   "outputs": [],
   "source": [
    "def instructorWithLongestName(instructors):\n",
    "    pass\n",
    "\n",
    "print(instructorWithLongestName([\n",
    "  {\"name\": \"Samuel\", \"course\": \"iOS\"},\n",
    "  {\"name\": \"Jeremiah\", \"course\": \"Data\"},\n",
    "  {\"name\": \"Ophilia\", \"course\": \"Web\"},\n",
    "  {\"name\": \"Donald\", \"course\": \"Web\"}\n",
    "]))\n",
    "print(instructorWithLongestName([\n",
    "  {\"name\": \"Matthew\", \"course\": \"Data\"},\n",
    "  {\"name\": \"David\", \"course\": \"iOS\"},\n",
    "  {\"name\": \"Domascus\", \"course\": \"Web\"}\n",
    "]))"
   ]
  },
  {
   "cell_type": "markdown",
   "id": "b753aef5-21d4-4f47-932c-ee35cb1645e4",
   "metadata": {},
   "source": [
    "## Expected Output"
   ]
  },
  {
   "cell_type": "markdown",
   "id": "0c5626d7-94f4-4485-86b6-fd6ba7357b5c",
   "metadata": {},
   "source": [
    "```\n",
    "name\": \"Jeremiah\", \"course\": \"Data\"}\n",
    "{\"name\": \"Domascus\", \"course\": \"Web\"}\n",
    "```"
   ]
  }
 ],
 "metadata": {
  "kernelspec": {
   "display_name": "Python 3 (ipykernel)",
   "language": "python",
   "name": "python3"
  },
  "language_info": {
   "codemirror_mode": {
    "name": "ipython",
    "version": 3
   },
   "file_extension": ".py",
   "mimetype": "text/x-python",
   "name": "python",
   "nbconvert_exporter": "python",
   "pygments_lexer": "ipython3",
   "version": "3.8.12"
  }
 },
 "nbformat": 4,
 "nbformat_minor": 5
}
